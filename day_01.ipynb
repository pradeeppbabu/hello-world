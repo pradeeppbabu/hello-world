{
  "nbformat": 4,
  "nbformat_minor": 0,
  "metadata": {
    "colab": {
      "provenance": [],
      "authorship_tag": "ABX9TyPNuh7yv7YlfE4oSpSOrJJ/",
      "include_colab_link": true
    },
    "kernelspec": {
      "name": "python3",
      "display_name": "Python 3"
    },
    "language_info": {
      "name": "python"
    }
  },
  "cells": [
    {
      "cell_type": "markdown",
      "metadata": {
        "id": "view-in-github",
        "colab_type": "text"
      },
      "source": [
        "<a href=\"https://colab.research.google.com/github/pradeeppbabu/hello-world/blob/master/day_01.ipynb\" target=\"_parent\"><img src=\"https://colab.research.google.com/assets/colab-badge.svg\" alt=\"Open In Colab\"/></a>"
      ]
    },
    {
      "cell_type": "code",
      "execution_count": null,
      "metadata": {
        "id": "0LNZMvnq-xB-"
      },
      "outputs": [],
      "source": [
        "print (\" Hello World , how can help you? Thank you so much \")"
      ]
    },
    {
      "cell_type": "markdown",
      "source": [
        "hello bring this additional features something this very awkward something called to be rich movement biggest attachments fakes with very alternative attachments movements alright birds"
      ],
      "metadata": {
        "id": "9A9Q6ge9_dFw"
      }
    },
    {
      "cell_type": "code",
      "source": [
        "print (\"* 12: oxford,\")"
      ],
      "metadata": {
        "colab": {
          "base_uri": "https://localhost:8080/"
        },
        "id": "yfaE7jb2_cNw",
        "outputId": "7418722e-3306-4ec4-8e57-358fa7ea05b4"
      },
      "execution_count": null,
      "outputs": [
        {
          "output_type": "stream",
          "name": "stdout",
          "text": [
            "* 12: oxford,\n"
          ]
        }
      ]
    },
    {
      "cell_type": "code",
      "source": [],
      "metadata": {
        "id": "LAcO4N_m_zw_"
      },
      "execution_count": null,
      "outputs": []
    }
  ]
}