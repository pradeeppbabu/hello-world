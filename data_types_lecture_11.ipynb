{
  "nbformat": 4,
  "nbformat_minor": 0,
  "metadata": {
    "colab": {
      "provenance": [],
      "authorship_tag": "ABX9TyPHlIWZrQoh80u2W353o7Qu",
      "include_colab_link": true
    },
    "kernelspec": {
      "name": "python3",
      "display_name": "Python 3"
    },
    "language_info": {
      "name": "python"
    }
  },
  "cells": [
    {
      "cell_type": "markdown",
      "metadata": {
        "id": "view-in-github",
        "colab_type": "text"
      },
      "source": [
        "<a href=\"https://colab.research.google.com/github/pradeeppbabu/hello-world/blob/master/data_types_lecture_11.ipynb\" target=\"_parent\"><img src=\"https://colab.research.google.com/assets/colab-badge.svg\" alt=\"Open In Colab\"/></a>"
      ]
    },
    {
      "cell_type": "code",
      "execution_count": null,
      "metadata": {
        "id": "uwUVZ7zevo7B",
        "colab": {
          "base_uri": "https://localhost:8080/"
        },
        "outputId": "889793aa-0160-48f6-c684-0d96ad1099ea"
      },
      "outputs": [
        {
          "output_type": "stream",
          "name": "stdout",
          "text": [
            "<class 'int'>\n"
          ]
        }
      ],
      "source": [
        "var_1 = 9\n",
        "print(type(var_1))\n"
      ]
    },
    {
      "cell_type": "markdown",
      "source": [
        "inga output ena na 9 ooda data type ena va python vachi iruku nu kamikuthu\n"
      ],
      "metadata": {
        "id": "RGk7k3DsENRi"
      }
    },
    {
      "cell_type": "code",
      "source": [
        "var_1 = 99999999999999999999999999999999999999999999999999999999999999999999999999999999999999999999999\n",
        "print(var_1)\n"
      ],
      "metadata": {
        "colab": {
          "base_uri": "https://localhost:8080/"
        },
        "id": "moVba8M4Hn2A",
        "outputId": "da7b178c-9f40-4885-8927-237aba1f950b"
      },
      "execution_count": null,
      "outputs": [
        {
          "output_type": "stream",
          "name": "stdout",
          "text": [
            "99999999999999999999999999999999999999999999999999999999999999999999999999999999999999999999999\n"
          ]
        }
      ]
    },
    {
      "cell_type": "markdown",
      "source": [
        "inga paru int data type la value ooda range limit ilama iruku"
      ],
      "metadata": {
        "id": "7HfjCBMrHxTu"
      }
    },
    {
      "cell_type": "code",
      "source": [
        "var_1 = 9\n",
        "var_3 = 5.9\n",
        "print(var_1 + var_3)\n",
        "print (type (var_1))\n",
        "print (type (var_3))\n"
      ],
      "metadata": {
        "colab": {
          "base_uri": "https://localhost:8080/"
        },
        "id": "rVFR0wnBIFou",
        "outputId": "80424005-129c-4f25-a5f3-aecd083511a8"
      },
      "execution_count": null,
      "outputs": [
        {
          "output_type": "stream",
          "name": "stdout",
          "text": [
            "14.9\n",
            "<class 'int'>\n",
            "<class 'float'>\n"
          ]
        }
      ]
    },
    {
      "cell_type": "markdown",
      "source": [
        "inga decimal value ooda data type python ena vachi iruku nu kandupuduchi irukom\n"
      ],
      "metadata": {
        "id": "pk4U6cynI13s"
      }
    },
    {
      "cell_type": "code",
      "source": [
        "var_1 = O09\n",
        "var_3 = Ox10\n",
        "print(var_1)\n",
        "print(var_3)\n"
      ],
      "metadata": {
        "colab": {
          "base_uri": "https://localhost:8080/",
          "height": 193
        },
        "id": "N2Q6aowKI_E7",
        "outputId": "03d01315-b576-4358-95eb-56ccf5d93633"
      },
      "execution_count": null,
      "outputs": [
        {
          "output_type": "error",
          "ename": "NameError",
          "evalue": "name 'O09' is not defined",
          "traceback": [
            "\u001b[0;31m---------------------------------------------------------------------------\u001b[0m",
            "\u001b[0;31mNameError\u001b[0m                                 Traceback (most recent call last)",
            "\u001b[0;32m/tmp/ipython-input-3044909868.py\u001b[0m in \u001b[0;36m<cell line: 0>\u001b[0;34m()\u001b[0m\n\u001b[0;32m----> 1\u001b[0;31m \u001b[0mvar_1\u001b[0m \u001b[0;34m=\u001b[0m \u001b[0mO09\u001b[0m\u001b[0;34m\u001b[0m\u001b[0;34m\u001b[0m\u001b[0m\n\u001b[0m\u001b[1;32m      2\u001b[0m \u001b[0mvar_3\u001b[0m \u001b[0;34m=\u001b[0m \u001b[0mOx10\u001b[0m\u001b[0;34m\u001b[0m\u001b[0;34m\u001b[0m\u001b[0m\n\u001b[1;32m      3\u001b[0m \u001b[0mprint\u001b[0m\u001b[0;34m(\u001b[0m\u001b[0mvar_1\u001b[0m\u001b[0;34m)\u001b[0m\u001b[0;34m\u001b[0m\u001b[0;34m\u001b[0m\u001b[0m\n\u001b[1;32m      4\u001b[0m \u001b[0mprint\u001b[0m\u001b[0;34m(\u001b[0m\u001b[0mvar_3\u001b[0m\u001b[0;34m)\u001b[0m\u001b[0;34m\u001b[0m\u001b[0;34m\u001b[0m\u001b[0m\n",
            "\u001b[0;31mNameError\u001b[0m: name 'O09' is not defined"
          ]
        }
      ]
    },
    {
      "cell_type": "code",
      "source": [
        "var_1 = 0o127\n",
        "var_3 = 0x10\n",
        "print(var_1)\n",
        "print(var_3)\n"
      ],
      "metadata": {
        "colab": {
          "base_uri": "https://localhost:8080/"
        },
        "id": "mbfJXVAAKQv3",
        "outputId": "f5f767d6-46cc-4a6b-d5d3-614311c0d8c9"
      },
      "execution_count": null,
      "outputs": [
        {
          "output_type": "stream",
          "name": "stdout",
          "text": [
            "87\n",
            "16\n"
          ]
        }
      ]
    },
    {
      "cell_type": "markdown",
      "source": [
        "inga 87 ah octal ku convert pana 0o127 varum athe mari tn second um"
      ],
      "metadata": {
        "id": "EFJenwFjMGW5"
      }
    },
    {
      "cell_type": "code",
      "source": [
        "var_1 = \"rb raj pradeep\"\n",
        "print(type(var_1))\n"
      ],
      "metadata": {
        "colab": {
          "base_uri": "https://localhost:8080/"
        },
        "id": "EsrheMlSMSZI",
        "outputId": "d9e52be3-422a-4545-d5b6-7f988b0a9a77"
      },
      "execution_count": null,
      "outputs": [
        {
          "output_type": "stream",
          "name": "stdout",
          "text": [
            "<class 'str'>\n"
          ]
        }
      ]
    },
    {
      "cell_type": "markdown",
      "source": [
        "inga output la 'str' vanthu iruku apdy na assign pani irukurathu string ah assign pani iruku\n"
      ],
      "metadata": {
        "id": "DeKvkaL0M602"
      }
    },
    {
      "cell_type": "code",
      "source": [
        "var_1 = \"rb raj pradeep\"\n",
        "print(type(var_1))\n",
        "print(var_1[5])\n",
        "print(var_1[7])\n"
      ],
      "metadata": {
        "colab": {
          "base_uri": "https://localhost:8080/"
        },
        "id": "OyKKT7-TNF_m",
        "outputId": "c4096e3f-1c18-4b8e-c734-13ab0a4ee2c4"
      },
      "execution_count": null,
      "outputs": [
        {
          "output_type": "stream",
          "name": "stdout",
          "text": [
            "<class 'str'>\n",
            "j\n",
            "p\n"
          ]
        }
      ]
    },
    {
      "cell_type": "markdown",
      "source": [
        "2nd line in o/p tn best example for sequence of character la assign pani iruku\n",
        "\n",
        "3rd line in o/p thapu jenny solar padi (15.01) anga space ah sting ah count panikuthu but intha studio la space ah string ah consider panama leave panitu adutha character ah o/p ah kaatuthu."
      ],
      "metadata": {
        "id": "NY4XytWUNbAV"
      }
    },
    {
      "cell_type": "code",
      "source": [
        "var_1 = \"rb raj pradeep \"\n",
        "var_3 = \"scholar\"\n",
        "print(var_1 + var_3)\n",
        "print(var_1 * 2)"
      ],
      "metadata": {
        "id": "8fqaqMZfPGEP",
        "colab": {
          "base_uri": "https://localhost:8080/"
        },
        "outputId": "0822f287-a1b5-4b77-853a-0965d7e2d8f4"
      },
      "execution_count": null,
      "outputs": [
        {
          "output_type": "stream",
          "name": "stdout",
          "text": [
            "rb raj pradeep scholar\n",
            "rb raj pradeep rb raj pradeep \n"
          ]
        }
      ]
    },
    {
      "cell_type": "code",
      "source": [
        "var_1 = \"rb raj pradeep \"\n",
        "var_3 = \"scholar\"\n",
        "a = 9\n",
        "print(var_1 + var_3)\n",
        "print(var_1 + a)"
      ],
      "metadata": {
        "colab": {
          "base_uri": "https://localhost:8080/",
          "height": 193
        },
        "id": "QHbFbpRDeV1J",
        "outputId": "95b5a266-b802-4f11-a2e9-67597a2517c9"
      },
      "execution_count": null,
      "outputs": [
        {
          "output_type": "stream",
          "name": "stdout",
          "text": [
            "rb raj pradeep scholar\n"
          ]
        },
        {
          "output_type": "error",
          "ename": "TypeError",
          "evalue": "can only concatenate str (not \"int\") to str",
          "traceback": [
            "\u001b[0;31m---------------------------------------------------------------------------\u001b[0m",
            "\u001b[0;31mTypeError\u001b[0m                                 Traceback (most recent call last)",
            "\u001b[0;32m/tmp/ipython-input-2455858097.py\u001b[0m in \u001b[0;36m<cell line: 0>\u001b[0;34m()\u001b[0m\n\u001b[1;32m      3\u001b[0m \u001b[0ma\u001b[0m \u001b[0;34m=\u001b[0m \u001b[0;36m9\u001b[0m\u001b[0;34m\u001b[0m\u001b[0;34m\u001b[0m\u001b[0m\n\u001b[1;32m      4\u001b[0m \u001b[0mprint\u001b[0m\u001b[0;34m(\u001b[0m\u001b[0mvar_1\u001b[0m \u001b[0;34m+\u001b[0m \u001b[0mvar_3\u001b[0m\u001b[0;34m)\u001b[0m\u001b[0;34m\u001b[0m\u001b[0;34m\u001b[0m\u001b[0m\n\u001b[0;32m----> 5\u001b[0;31m \u001b[0mprint\u001b[0m\u001b[0;34m(\u001b[0m\u001b[0mvar_1\u001b[0m \u001b[0;34m+\u001b[0m \u001b[0ma\u001b[0m\u001b[0;34m)\u001b[0m\u001b[0;34m\u001b[0m\u001b[0;34m\u001b[0m\u001b[0m\n\u001b[0m",
            "\u001b[0;31mTypeError\u001b[0m: can only concatenate str (not \"int\") to str"
          ]
        }
      ]
    },
    {
      "cell_type": "markdown",
      "source": [
        "inga string and string matum tn concatenate panum , int and string ah conactenate pananthu."
      ],
      "metadata": {
        "id": "WLrV27Iae0mn"
      }
    },
    {
      "cell_type": "code",
      "source": [
        "var_1 = \"123 \"\n",
        "var_3 = \"scholar\"\n",
        "print(var_1 + var_3)\n",
        "print(\"123\" + \"1\")"
      ],
      "metadata": {
        "colab": {
          "base_uri": "https://localhost:8080/"
        },
        "id": "L6lQm3ytfnNt",
        "outputId": "aeedef2e-1773-4f49-bcc7-b2ca2fed74e6"
      },
      "execution_count": null,
      "outputs": [
        {
          "output_type": "stream",
          "name": "stdout",
          "text": [
            "123 scholar\n",
            "1231\n"
          ]
        }
      ]
    },
    {
      "cell_type": "markdown",
      "source": [
        "output paru sring and string ah print pani iruku.\n"
      ],
      "metadata": {
        "id": "tPJrQu37f0gs"
      }
    },
    {
      "cell_type": "code",
      "source": [
        "print(\"rb raj pradeep's + \\\"book \\\"\")"
      ],
      "metadata": {
        "id": "uLYFjqRqf8qD",
        "colab": {
          "base_uri": "https://localhost:8080/"
        },
        "outputId": "a547ba9b-3f00-4f02-8fb1-f1a5426e101e"
      },
      "execution_count": 1,
      "outputs": [
        {
          "output_type": "stream",
          "name": "stdout",
          "text": [
            "rb raj pradeep's + \"book \"\n"
          ]
        }
      ]
    },
    {
      "cell_type": "code",
      "source": [
        "print(\"rb raj pradeep \\'s + \\\"book \\\"\")"
      ],
      "metadata": {
        "colab": {
          "base_uri": "https://localhost:8080/"
        },
        "id": "74Yey1n5HpRL",
        "outputId": "580f8c27-234f-41dd-bc03-b5cc1396478e"
      },
      "execution_count": 2,
      "outputs": [
        {
          "output_type": "stream",
          "name": "stdout",
          "text": [
            "rb raj pradeep 's + \"book \"\n"
          ]
        }
      ]
    },
    {
      "cell_type": "code",
      "source": [
        "print(\"rb raj pradeep \\'s + \\\"book \"\")"
      ],
      "metadata": {
        "colab": {
          "base_uri": "https://localhost:8080/",
          "height": 106
        },
        "id": "oqVMCicTHuuj",
        "outputId": "26e16f79-caac-4e41-fa3c-f7faa57936d4"
      },
      "execution_count": 3,
      "outputs": [
        {
          "output_type": "error",
          "ename": "SyntaxError",
          "evalue": "unterminated string literal (detected at line 1) (ipython-input-2086991660.py, line 1)",
          "traceback": [
            "\u001b[0;36m  File \u001b[0;32m\"/tmp/ipython-input-2086991660.py\"\u001b[0;36m, line \u001b[0;32m1\u001b[0m\n\u001b[0;31m    print(\"rb raj pradeep \\'s + \\\"book \"\")\u001b[0m\n\u001b[0m                                        ^\u001b[0m\n\u001b[0;31mSyntaxError\u001b[0m\u001b[0;31m:\u001b[0m unterminated string literal (detected at line 1)\n"
          ]
        }
      ]
    },
    {
      "cell_type": "markdown",
      "source": [
        "inga single quotes and double quotes lam special meaning kodukum interpreter ku so itha skip pana nama backward slash potanum ilana interpreter syntaxerror katum."
      ],
      "metadata": {
        "id": "m0LY62fNH-Fx"
      }
    },
    {
      "cell_type": "code",
      "source": [
        "print(\"rb raj pradeep \\'s \\n \\\"book \\\"\")\n"
      ],
      "metadata": {
        "colab": {
          "base_uri": "https://localhost:8080/"
        },
        "id": "m3x5-XZuJ3Vr",
        "outputId": "c51b909c-948a-4c0e-ee59-4baeb269f513"
      },
      "execution_count": 4,
      "outputs": [
        {
          "output_type": "stream",
          "name": "stdout",
          "text": [
            "rb raj pradeep 's \n",
            " \"book \"\n"
          ]
        }
      ]
    },
    {
      "cell_type": "code",
      "source": [
        "print(\"rb raj pradeep \\'s \\\\n \\\"book \\\"\")"
      ],
      "metadata": {
        "colab": {
          "base_uri": "https://localhost:8080/"
        },
        "id": "Yp1qqDg-L_yl",
        "outputId": "f6e8a128-b452-4625-ac3e-a280c35baf55"
      },
      "execution_count": 5,
      "outputs": [
        {
          "output_type": "stream",
          "name": "stdout",
          "text": [
            "rb raj pradeep 's \\n \"book \"\n"
          ]
        }
      ]
    },
    {
      "cell_type": "markdown",
      "source": [
        "last two o/p paru \\n na special meaning iruku - new line nu artham. intha special meaning ah skip pana nama backward slash use panrom  then o/p la \\n um vanthruthu.\n"
      ],
      "metadata": {
        "id": "KuRsvCSOMEJU"
      }
    },
    {
      "cell_type": "code",
      "source": [
        "var = true\n",
        "print(var)"
      ],
      "metadata": {
        "colab": {
          "base_uri": "https://localhost:8080/",
          "height": 159
        },
        "id": "9jY_kBZGMheL",
        "outputId": "0899f4fc-148c-46a5-f0a0-abfc0b3f1cc2"
      },
      "execution_count": 6,
      "outputs": [
        {
          "output_type": "error",
          "ename": "NameError",
          "evalue": "name 'true' is not defined",
          "traceback": [
            "\u001b[0;31m---------------------------------------------------------------------------\u001b[0m",
            "\u001b[0;31mNameError\u001b[0m                                 Traceback (most recent call last)",
            "\u001b[0;32m/tmp/ipython-input-1262929949.py\u001b[0m in \u001b[0;36m<cell line: 0>\u001b[0;34m()\u001b[0m\n\u001b[0;32m----> 1\u001b[0;31m \u001b[0mvar\u001b[0m \u001b[0;34m=\u001b[0m \u001b[0mtrue\u001b[0m\u001b[0;34m\u001b[0m\u001b[0;34m\u001b[0m\u001b[0m\n\u001b[0m\u001b[1;32m      2\u001b[0m \u001b[0mprint\u001b[0m\u001b[0;34m(\u001b[0m\u001b[0mvar\u001b[0m\u001b[0;34m)\u001b[0m\u001b[0;34m\u001b[0m\u001b[0;34m\u001b[0m\u001b[0m\n",
            "\u001b[0;31mNameError\u001b[0m: name 'true' is not defined"
          ]
        }
      ]
    },
    {
      "cell_type": "markdown",
      "source": [
        "true nu ethuvum namalum,  predefined aavum ethuvum define pana la so nameerror tn interpreter katum.\n"
      ],
      "metadata": {
        "id": "_1FQ9xYINbgZ"
      }
    },
    {
      "cell_type": "code",
      "source": [
        "var = True\n",
        "print (var)\n",
        "print (type(var))"
      ],
      "metadata": {
        "colab": {
          "base_uri": "https://localhost:8080/"
        },
        "id": "jgJDREHVNq1X",
        "outputId": "d0d50ee7-5edc-4144-9452-0f8ba9bff2ec"
      },
      "execution_count": 7,
      "outputs": [
        {
          "output_type": "stream",
          "name": "stdout",
          "text": [
            "True\n",
            "<class 'bool'>\n"
          ]
        }
      ]
    },
    {
      "cell_type": "code",
      "source": [
        "True nu already predefined ah define pani irukanga.so inga o/p varum."
      ],
      "metadata": {
        "id": "du_ux23vN2lf"
      },
      "execution_count": null,
      "outputs": []
    },
    {
      "cell_type": "code",
      "source": [
        "a=1\n",
        "c=9\n",
        "var = a<c\n",
        "print(var)"
      ],
      "metadata": {
        "colab": {
          "base_uri": "https://localhost:8080/"
        },
        "id": "9z2PtJ1cOCU_",
        "outputId": "c704e8f6-d4ec-49a8-fbe3-2d21bd7aacc8"
      },
      "execution_count": 8,
      "outputs": [
        {
          "output_type": "stream",
          "name": "stdout",
          "text": [
            "True\n"
          ]
        }
      ]
    },
    {
      "cell_type": "markdown",
      "source": [
        "inga True nu nama assign panala. athu expression vachi True nu soliduchu\n"
      ],
      "metadata": {
        "id": "y31XWQhtOcml"
      }
    },
    {
      "cell_type": "code",
      "source": [],
      "metadata": {
        "id": "_B08ueVkOm9c"
      },
      "execution_count": null,
      "outputs": []
    }
  ]
}