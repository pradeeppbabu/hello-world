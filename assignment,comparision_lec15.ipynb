{
  "nbformat": 4,
  "nbformat_minor": 0,
  "metadata": {
    "colab": {
      "provenance": [],
      "authorship_tag": "ABX9TyNvMZvbW78UI887Ea1Ze5SQ",
      "include_colab_link": true
    },
    "kernelspec": {
      "name": "python3",
      "display_name": "Python 3"
    },
    "language_info": {
      "name": "python"
    }
  },
  "cells": [
    {
      "cell_type": "markdown",
      "metadata": {
        "id": "view-in-github",
        "colab_type": "text"
      },
      "source": [
        "<a href=\"https://colab.research.google.com/github/pradeeppbabu/hello-world/blob/master/assignment%2Ccomparision_lec15.ipynb\" target=\"_parent\"><img src=\"https://colab.research.google.com/assets/colab-badge.svg\" alt=\"Open In Colab\"/></a>"
      ]
    },
    {
      "cell_type": "code",
      "execution_count": null,
      "metadata": {
        "colab": {
          "base_uri": "https://localhost:8080/"
        },
        "id": "dctru-qoFSR6",
        "outputId": "5755e3cc-d8d9-45ef-b63f-f3daa9fe3905"
      },
      "outputs": [
        {
          "output_type": "stream",
          "name": "stdout",
          "text": [
            "2\n"
          ]
        }
      ],
      "source": [
        "a = 2\n",
        "print(a)"
      ]
    },
    {
      "cell_type": "code",
      "source": [
        "print(a+2)"
      ],
      "metadata": {
        "colab": {
          "base_uri": "https://localhost:8080/"
        },
        "id": "zDN4-0w1JQje",
        "outputId": "e53a91d7-2b5f-47b6-f639-9bcd64bb8c90"
      },
      "execution_count": null,
      "outputs": [
        {
          "output_type": "stream",
          "name": "stdout",
          "text": [
            "4\n"
          ]
        }
      ]
    },
    {
      "cell_type": "code",
      "source": [
        "print(a%2)"
      ],
      "metadata": {
        "colab": {
          "base_uri": "https://localhost:8080/"
        },
        "id": "1vG2wBiSJWxs",
        "outputId": "5faf9b92-0905-4d85-d8c1-fc5a1631ae34"
      },
      "execution_count": null,
      "outputs": [
        {
          "output_type": "stream",
          "name": "stdout",
          "text": [
            "0\n"
          ]
        }
      ]
    },
    {
      "cell_type": "code",
      "source": [
        "a,b,c = 1,3,4\n",
        "print(a,b,c)"
      ],
      "metadata": {
        "id": "wr4Ss3SDJoPM",
        "colab": {
          "base_uri": "https://localhost:8080/"
        },
        "outputId": "922a55a3-bc01-471e-9284-83c1cb591e3c"
      },
      "execution_count": 10,
      "outputs": [
        {
          "output_type": "stream",
          "name": "stdout",
          "text": [
            "1 3 4\n"
          ]
        }
      ]
    },
    {
      "cell_type": "code",
      "source": [
        "a,b = 1,3\n",
        "a += 3\n",
        "print(a)"
      ],
      "metadata": {
        "colab": {
          "base_uri": "https://localhost:8080/"
        },
        "id": "u6iSOafddbDr",
        "outputId": "92acda22-6791-45c6-c9e2-778d2268eaa7"
      },
      "execution_count": 11,
      "outputs": [
        {
          "output_type": "stream",
          "name": "stdout",
          "text": [
            "4\n"
          ]
        }
      ]
    },
    {
      "cell_type": "markdown",
      "source": [
        "inga comparision operator iruku"
      ],
      "metadata": {
        "id": "4zdUR1GAeVFu"
      }
    },
    {
      "cell_type": "code",
      "source": [
        "a,b = 1,3\n",
        "c = a+b #4\n",
        "c += a  #c = c+a nu artham so c la 5 tn irukum\n",
        "print(c)"
      ],
      "metadata": {
        "colab": {
          "base_uri": "https://localhost:8080/"
        },
        "id": "FE0udbJcgZnR",
        "outputId": "ab40148c-5be4-474d-ed2c-8447e77e4100"
      },
      "execution_count": 12,
      "outputs": [
        {
          "output_type": "stream",
          "name": "stdout",
          "text": [
            "5\n"
          ]
        }
      ]
    },
    {
      "cell_type": "code",
      "source": [
        "a,b = 1,3\n",
        "c = a+b #4\n",
        "a += 1\n",
        "c /= a  #c = c/a nu artham so c la 2.0 tn irukum\n",
        "print(c)"
      ],
      "metadata": {
        "colab": {
          "base_uri": "https://localhost:8080/"
        },
        "id": "mbKgj3UAhjLl",
        "outputId": "9cc6b15c-9ec6-474c-d41e-1b42b0095822"
      },
      "execution_count": 13,
      "outputs": [
        {
          "output_type": "stream",
          "name": "stdout",
          "text": [
            "2.0\n"
          ]
        }
      ]
    },
    {
      "cell_type": "code",
      "source": [
        "a = 9\n",
        "print(a==3)\n",
        "print (a<=9)\n",
        "print (a != 5)\n",
        "print (a != 9)\n",
        "print ((a+1) != 9)"
      ],
      "metadata": {
        "colab": {
          "base_uri": "https://localhost:8080/"
        },
        "id": "pHhxiWAhka_8",
        "outputId": "68ce106a-bbf6-4e6a-9975-b7c146142f87"
      },
      "execution_count": 18,
      "outputs": [
        {
          "output_type": "stream",
          "name": "stdout",
          "text": [
            "False\n",
            "True\n",
            "True\n",
            "False\n",
            "True\n"
          ]
        }
      ]
    },
    {
      "cell_type": "markdown",
      "source": [
        "inga comparision operator iruku. 5th one la irukura mari varible idathula expression um use panlam..."
      ],
      "metadata": {
        "id": "csCxTZQ3kkNz"
      }
    },
    {
      "cell_type": "code",
      "source": [],
      "metadata": {
        "id": "ro6upAi7ko5K"
      },
      "execution_count": null,
      "outputs": []
    },
    {
      "cell_type": "markdown",
      "source": [],
      "metadata": {
        "id": "L-x9qRCEhVRt"
      }
    }
  ]
}