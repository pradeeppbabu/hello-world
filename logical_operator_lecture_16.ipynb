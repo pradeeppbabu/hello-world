{
  "nbformat": 4,
  "nbformat_minor": 0,
  "metadata": {
    "colab": {
      "provenance": [],
      "authorship_tag": "ABX9TyNrhC/erFqbMRDPtLp5t1tc",
      "include_colab_link": true
    },
    "kernelspec": {
      "name": "python3",
      "display_name": "Python 3"
    },
    "language_info": {
      "name": "python"
    }
  },
  "cells": [
    {
      "cell_type": "markdown",
      "metadata": {
        "id": "view-in-github",
        "colab_type": "text"
      },
      "source": [
        "<a href=\"https://colab.research.google.com/github/pradeeppbabu/hello-world/blob/master/logical_operator_lecture_16.ipynb\" target=\"_parent\"><img src=\"https://colab.research.google.com/assets/colab-badge.svg\" alt=\"Open In Colab\"/></a>"
      ]
    },
    {
      "cell_type": "code",
      "execution_count": 4,
      "metadata": {
        "colab": {
          "base_uri": "https://localhost:8080/"
        },
        "id": "p9n6NlCRHUjR",
        "outputId": "ede9e45a-a9aa-4f39-a15e-8e52fae21f5f"
      },
      "outputs": [
        {
          "output_type": "stream",
          "name": "stdout",
          "text": [
            "3\n",
            "4\n",
            "0\n",
            "0\n"
          ]
        }
      ],
      "source": [
        "# lecture 15 homework\n",
        "a,b = 1,2\n",
        "c = a+b\n",
        "print(c)\n",
        "c += a\n",
        "print(c)\n",
        "c %= b\n",
        "print(c)\n",
        "c //= a\n",
        "print(c)\n"
      ]
    },
    {
      "cell_type": "code",
      "source": [
        "a,b = 5,4\n",
        "print(a>4 and b<10 and a<6 and b>8)"
      ],
      "metadata": {
        "colab": {
          "base_uri": "https://localhost:8080/"
        },
        "id": "7P0EZBbaIicK",
        "outputId": "26a72e51-4673-4451-878b-16456d6b1c41"
      },
      "execution_count": 6,
      "outputs": [
        {
          "output_type": "stream",
          "name": "stdout",
          "text": [
            "False\n"
          ]
        }
      ]
    },
    {
      "cell_type": "markdown",
      "source": [
        "inga oru statement false na o/p false tn varum"
      ],
      "metadata": {
        "id": "FCJREG-zN6O7"
      }
    },
    {
      "cell_type": "code",
      "source": [
        "a,b = 5,4\n",
        "print(a>4 or b<10 or a<6 or b>8)\n",
        "print(a>6 or b<10)"
      ],
      "metadata": {
        "colab": {
          "base_uri": "https://localhost:8080/"
        },
        "id": "wEbTvAvINOS-",
        "outputId": "305af827-f51b-4599-887d-533cc6fe0b69"
      },
      "execution_count": 8,
      "outputs": [
        {
          "output_type": "stream",
          "name": "stdout",
          "text": [
            "True\n",
            "True\n"
          ]
        }
      ]
    },
    {
      "cell_type": "markdown",
      "source": [
        "inga oru statement true na o/p true nu tn varum."
      ],
      "metadata": {
        "id": "CmtKTs19N0Uk"
      }
    },
    {
      "cell_type": "code",
      "source": [
        "a = False\n",
        "print(not(a))"
      ],
      "metadata": {
        "colab": {
          "base_uri": "https://localhost:8080/"
        },
        "id": "d9FFcQmGN_XK",
        "outputId": "0ac2244b-92c9-48f6-8b05-797f1a1a69a9"
      },
      "execution_count": 9,
      "outputs": [
        {
          "output_type": "stream",
          "name": "stdout",
          "text": [
            "True\n"
          ]
        }
      ]
    },
    {
      "cell_type": "markdown",
      "source": [
        "inga \"not\" operator use pani irukom so intha operator reverse output tn print panum.\n",
        "inga False/True should be in capital letter la tn irukanum."
      ],
      "metadata": {
        "id": "V_E57JQDPCsQ"
      }
    },
    {
      "cell_type": "code",
      "source": [
        "a,b = 1,2\n",
        "print(not(a))"
      ],
      "metadata": {
        "colab": {
          "base_uri": "https://localhost:8080/"
        },
        "id": "e9Z-H8WURky4",
        "outputId": "43d2298a-640c-4829-a680-cb9bbc1e1dfb"
      },
      "execution_count": 11,
      "outputs": [
        {
          "output_type": "stream",
          "name": "stdout",
          "text": [
            "False\n"
          ]
        }
      ]
    }
  ]
}