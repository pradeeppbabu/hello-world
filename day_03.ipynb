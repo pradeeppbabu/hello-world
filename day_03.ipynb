{
  "nbformat": 4,
  "nbformat_minor": 0,
  "metadata": {
    "colab": {
      "provenance": [],
      "authorship_tag": "ABX9TyNDUOiNYKZtQdGBDXFfxbll",
      "include_colab_link": true
    },
    "kernelspec": {
      "name": "python3",
      "display_name": "Python 3"
    },
    "language_info": {
      "name": "python"
    }
  },
  "cells": [
    {
      "cell_type": "markdown",
      "metadata": {
        "id": "view-in-github",
        "colab_type": "text"
      },
      "source": [
        "<a href=\"https://colab.research.google.com/github/pradeeppbabu/hello-world/blob/master/day_03.ipynb\" target=\"_parent\"><img src=\"https://colab.research.google.com/assets/colab-badge.svg\" alt=\"Open In Colab\"/></a>"
      ]
    },
    {
      "cell_type": "code",
      "execution_count": null,
      "metadata": {
        "id": "puRIqmjl6PdN"
      },
      "outputs": [],
      "source": [
        "# print (' hi raj pradeep')\n",
        "# print (' hi raj geetha')\n"
      ]
    },
    {
      "cell_type": "code",
      "source": [
        "ticket_price = 90\n",
        "wallet_price = 100\n",
        "if ticket_price == wallet_price :\n",
        "  print ( 'buy')\n",
        "else:\n",
        "  print ('don't puy')"
      ],
      "metadata": {
        "colab": {
          "base_uri": "https://localhost:8080/",
          "height": 106
        },
        "id": "NhiViZV9695p",
        "outputId": "aa37bcfa-0810-44f3-cde1-812a7640516d"
      },
      "execution_count": 9,
      "outputs": [
        {
          "output_type": "error",
          "ename": "SyntaxError",
          "evalue": "unterminated string literal (detected at line 6) (ipython-input-2581141302.py, line 6)",
          "traceback": [
            "\u001b[0;36m  File \u001b[0;32m\"/tmp/ipython-input-2581141302.py\"\u001b[0;36m, line \u001b[0;32m6\u001b[0m\n\u001b[0;31m    print ('don't puy')\u001b[0m\n\u001b[0m                     ^\u001b[0m\n\u001b[0;31mSyntaxError\u001b[0m\u001b[0;31m:\u001b[0m unterminated string literal (detected at line 6)\n"
          ]
        }
      ]
    },
    {
      "cell_type": "code",
      "source": [
        "ticket_price = 90\n",
        "wallet_price = 100\n",
        "if ticket_price == wallet_price :\n",
        "  print ( 'buy')\n",
        "else:\n",
        "  print (\"don't puy\")"
      ],
      "metadata": {
        "colab": {
          "base_uri": "https://localhost:8080/"
        },
        "id": "FsEqJC2d-_cN",
        "outputId": "db1e561f-e1e8-4238-cf47-a4c6ab99c7ec"
      },
      "execution_count": 10,
      "outputs": [
        {
          "output_type": "stream",
          "name": "stdout",
          "text": [
            "don't puy\n"
          ]
        }
      ]
    },
    {
      "cell_type": "code",
      "source": [
        "ticket_price = 90\n",
        "wallet_price = 100\n",
        "if ticket_price == wallet_price :\n",
        "  print ( 'buy')\n",
        "else\n",
        "  print (\"don't puy\")"
      ],
      "metadata": {
        "colab": {
          "base_uri": "https://localhost:8080/",
          "height": 106
        },
        "id": "-6Cgf5e3_MB8",
        "outputId": "4a9ff4d2-988d-44f2-f84d-6b1c24a9dc16"
      },
      "execution_count": 11,
      "outputs": [
        {
          "output_type": "error",
          "ename": "SyntaxError",
          "evalue": "expected ':' (ipython-input-3537821117.py, line 5)",
          "traceback": [
            "\u001b[0;36m  File \u001b[0;32m\"/tmp/ipython-input-3537821117.py\"\u001b[0;36m, line \u001b[0;32m5\u001b[0m\n\u001b[0;31m    else\u001b[0m\n\u001b[0m        ^\u001b[0m\n\u001b[0;31mSyntaxError\u001b[0m\u001b[0;31m:\u001b[0m expected ':'\n"
          ]
        }
      ]
    },
    {
      "cell_type": "code",
      "source": [
        "# comparison <,>, <=, >=,"
      ],
      "metadata": {
        "id": "u1usCmbg_Trb"
      },
      "execution_count": null,
      "outputs": []
    },
    {
      "cell_type": "code",
      "source": [
        "marks = 16\n",
        "\n",
        "if (marks >= 90):\n",
        "   print ('A+')\n",
        "elif ( marks >= 80):\n",
        "  print ( 'A')\n",
        "elif (marks >= 70):\n",
        "   print ( 'B+')\n",
        "elif (marks >= 60):\n",
        "  print ('B')\n",
        "else :\n",
        "  print ('Fail')\n",
        "\n"
      ],
      "metadata": {
        "colab": {
          "base_uri": "https://localhost:8080/"
        },
        "id": "n3WGYRLqBITe",
        "outputId": "82ccf84b-d2c4-4bed-a959-b41113610b68"
      },
      "execution_count": 27,
      "outputs": [
        {
          "output_type": "stream",
          "name": "stdout",
          "text": [
            "Fail\n"
          ]
        }
      ]
    },
    {
      "cell_type": "code",
      "source": [
        "mark = 98\n",
        "\n",
        "if (marks >= 90):\n",
        "   print ('A+')\n",
        "elif ( marks >= 80):\n",
        "  print ( 'A')\n",
        "elif (marks >= 70):\n",
        "   print ( 'B+')\n",
        "elif (marks >= 60):\n",
        "  print ('B')\n",
        "else :\n",
        "  print ('Fail')\n"
      ],
      "metadata": {
        "colab": {
          "base_uri": "https://localhost:8080/"
        },
        "id": "m2WMGkqLCqFi",
        "outputId": "97cd6b29-8906-4258-e105-b6ff32f52ba1"
      },
      "execution_count": 28,
      "outputs": [
        {
          "output_type": "stream",
          "name": "stdout",
          "text": [
            "Fail\n"
          ]
        }
      ]
    }
  ]
}