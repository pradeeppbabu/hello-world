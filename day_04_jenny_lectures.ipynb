{
  "nbformat": 4,
  "nbformat_minor": 0,
  "metadata": {
    "colab": {
      "provenance": [],
      "authorship_tag": "ABX9TyOf24ngrrFMCr+x0OwgGf3C",
      "include_colab_link": true
    },
    "kernelspec": {
      "name": "python3",
      "display_name": "Python 3"
    },
    "language_info": {
      "name": "python"
    }
  },
  "cells": [
    {
      "cell_type": "markdown",
      "metadata": {
        "id": "view-in-github",
        "colab_type": "text"
      },
      "source": [
        "<a href=\"https://colab.research.google.com/github/pradeeppbabu/hello-world/blob/master/day_04_jenny_lectures.ipynb\" target=\"_parent\"><img src=\"https://colab.research.google.com/assets/colab-badge.svg\" alt=\"Open In Colab\"/></a>"
      ]
    },
    {
      "cell_type": "code",
      "source": [
        "print(' hello world \\n hi raj pradeep \\n how are you ?')"
      ],
      "metadata": {
        "id": "LAcO4N_m_zw_",
        "colab": {
          "base_uri": "https://localhost:8080/"
        },
        "outputId": "ce11bf7e-7c45-493e-a280-ad24c9cf1dde"
      },
      "execution_count": 1,
      "outputs": [
        {
          "output_type": "stream",
          "name": "stdout",
          "text": [
            " hello world \n",
            " hi raj pradeep \n",
            " how are you ?\n"
          ]
        }
      ]
    },
    {
      "cell_type": "code",
      "source": [
        "   #print ('hello world ')"
      ],
      "metadata": {
        "id": "V-qefRtdTDNk"
      },
      "execution_count": 7,
      "outputs": []
    },
    {
      "cell_type": "markdown",
      "source": [
        "above things print pana output varuthu but indent error varum nu parthen but varla\n"
      ],
      "metadata": {
        "id": "t3XkV-_MTjTi"
      }
    },
    {
      "cell_type": "code",
      "source": [
        "input ( ' what is your name ')"
      ],
      "metadata": {
        "colab": {
          "base_uri": "https://localhost:8080/",
          "height": 53
        },
        "id": "upeZ7X6pTvti",
        "outputId": "af9d2c05-4d36-4f4b-a691-172128d72a72"
      },
      "execution_count": 8,
      "outputs": [
        {
          "name": "stdout",
          "output_type": "stream",
          "text": [
            " what is your name rb raj pradeep\n"
          ]
        },
        {
          "output_type": "execute_result",
          "data": {
            "text/plain": [
              "'rb raj pradeep'"
            ],
            "application/vnd.google.colaboratory.intrinsic+json": {
              "type": "string"
            }
          },
          "metadata": {},
          "execution_count": 8
        }
      ]
    },
    {
      "cell_type": "code",
      "source": [
        "name = input ('what is your name ')"
      ],
      "metadata": {
        "colab": {
          "base_uri": "https://localhost:8080/"
        },
        "id": "66n-njCMUbln",
        "outputId": "d77dc409-5ffe-4938-9dc7-5f7e0fb01e27"
      },
      "execution_count": 12,
      "outputs": [
        {
          "name": "stdout",
          "output_type": "stream",
          "text": [
            "what is your name rb raj pradeep\n"
          ]
        }
      ]
    },
    {
      "cell_type": "code",
      "source": [
        "name = input ('what is your name')\n",
        "length = len(name)\n",
        "print (length)"
      ],
      "metadata": {
        "colab": {
          "base_uri": "https://localhost:8080/"
        },
        "id": "p5QrT5ujUuW-",
        "outputId": "1cc7226f-0920-4ba7-803b-9383a166001c"
      },
      "execution_count": 16,
      "outputs": [
        {
          "output_type": "stream",
          "name": "stdout",
          "text": [
            "what is your namerb raj pradeep\n",
            "14\n"
          ]
        }
      ]
    },
    {
      "cell_type": "code",
      "source": [
        "a = 1\n",
        "b = 'rb raj pradeep'\n",
        "print (a + b)\n"
      ],
      "metadata": {
        "colab": {
          "base_uri": "https://localhost:8080/",
          "height": 176
        },
        "id": "5iCbRRioVzdE",
        "outputId": "364efdd9-aca9-4809-841a-bd67746fd218"
      },
      "execution_count": 17,
      "outputs": [
        {
          "output_type": "error",
          "ename": "TypeError",
          "evalue": "unsupported operand type(s) for +: 'int' and 'str'",
          "traceback": [
            "\u001b[0;31m---------------------------------------------------------------------------\u001b[0m",
            "\u001b[0;31mTypeError\u001b[0m                                 Traceback (most recent call last)",
            "\u001b[0;32m/tmp/ipython-input-2783981948.py\u001b[0m in \u001b[0;36m<cell line: 0>\u001b[0;34m()\u001b[0m\n\u001b[1;32m      1\u001b[0m \u001b[0ma\u001b[0m \u001b[0;34m=\u001b[0m \u001b[0;36m1\u001b[0m\u001b[0;34m\u001b[0m\u001b[0;34m\u001b[0m\u001b[0m\n\u001b[1;32m      2\u001b[0m \u001b[0mb\u001b[0m \u001b[0;34m=\u001b[0m \u001b[0;34m'rb raj pradeep'\u001b[0m\u001b[0;34m\u001b[0m\u001b[0;34m\u001b[0m\u001b[0m\n\u001b[0;32m----> 3\u001b[0;31m \u001b[0mprint\u001b[0m \u001b[0;34m(\u001b[0m\u001b[0ma\u001b[0m \u001b[0;34m+\u001b[0m \u001b[0mb\u001b[0m\u001b[0;34m)\u001b[0m\u001b[0;34m\u001b[0m\u001b[0;34m\u001b[0m\u001b[0m\n\u001b[0m",
            "\u001b[0;31mTypeError\u001b[0m: unsupported operand type(s) for +: 'int' and 'str'"
          ]
        }
      ]
    },
    {
      "cell_type": "markdown",
      "source": [
        "inga number int ah store aagi iruku so concatenation nadakathu en na string ah iruntha than concatenation varum.\n"
      ],
      "metadata": {
        "id": "_R7TtCGZoGvd"
      }
    },
    {
      "cell_type": "code",
      "source": [
        "a = '1'\n",
        "b = 'rb raj pradeep'\n",
        "print (a + b)\n"
      ],
      "metadata": {
        "colab": {
          "base_uri": "https://localhost:8080/"
        },
        "id": "bZsWMMNNWBbE",
        "outputId": "248dc3ca-2993-4cb1-cded-9629cb14a306"
      },
      "execution_count": 18,
      "outputs": [
        {
          "output_type": "stream",
          "name": "stdout",
          "text": [
            "1rb raj pradeep\n"
          ]
        }
      ]
    },
    {
      "cell_type": "markdown",
      "source": [
        "inga single quotes la value ah string ah assign pani irukom so athunal out put vanthuruchu but ithe case mela output la partha anga output varla"
      ],
      "metadata": {
        "id": "3LopbbZKoAZl"
      }
    },
    {
      "cell_type": "code",
      "source": [
        "a = name\n",
        "b = 'rb raj pradeep'\n",
        "print (a + b)\n"
      ],
      "metadata": {
        "colab": {
          "base_uri": "https://localhost:8080/"
        },
        "id": "BO11tXyDWMFi",
        "outputId": "418767ea-8e15-4f6e-80d2-a694a5d5b08f"
      },
      "execution_count": 19,
      "outputs": [
        {
          "output_type": "stream",
          "name": "stdout",
          "text": [
            "rb raj pradeeprb raj pradeep\n"
          ]
        }
      ]
    },
    {
      "cell_type": "code",
      "source": [
        "a = name\n",
        "b = 'rb raj pradeep'\n",
        "print (a + \" \" + b)\n"
      ],
      "metadata": {
        "colab": {
          "base_uri": "https://localhost:8080/"
        },
        "id": "J883-GcPWR8K",
        "outputId": "0aca3404-d79d-4e69-e0e4-532235fe3c02"
      },
      "execution_count": 25,
      "outputs": [
        {
          "output_type": "stream",
          "name": "stdout",
          "text": [
            "rb raj pradeep rb raj pradeep\n"
          ]
        }
      ]
    },
    {
      "cell_type": "markdown",
      "source": [
        "nga string concatenation pani irukom\n",
        "string concatenation ku double quotes potu space kuduthu pananum, '+' intha symbol podanum apo tn ore line la varum"
      ],
      "metadata": {
        "id": "0AEarXV9n5Gl"
      }
    },
    {
      "cell_type": "code",
      "source": [
        "a = input ('what is your name ')\n",
        "b = 'rb raj pradeep'\n",
        "print (a + \" \" + b)\n"
      ],
      "metadata": {
        "colab": {
          "base_uri": "https://localhost:8080/"
        },
        "id": "sv93D-ZgcGxK",
        "outputId": "ee14b889-0f30-45dc-93cd-5709b38ca4df"
      },
      "execution_count": 27,
      "outputs": [
        {
          "output_type": "stream",
          "name": "stdout",
          "text": [
            "what is your name rb raj pradeep\n",
            "rb raj pradeep rb raj pradeep\n"
          ]
        }
      ]
    },
    {
      "cell_type": "markdown",
      "source": [
        "input fn use pani user ta irunthu input vangi aachu\n"
      ],
      "metadata": {
        "id": "ie_gkR_8nx8V"
      }
    },
    {
      "cell_type": "code",
      "source": [
        "name = ' raj pradeep '\n",
        "print ( name )\n",
        "name = ' raj '\n",
        "print (name)"
      ],
      "metadata": {
        "colab": {
          "base_uri": "https://localhost:8080/"
        },
        "id": "5wrLlUXreDW0",
        "outputId": "c776ee96-22da-4b87-9b1c-9fadf59f079a"
      },
      "execution_count": 28,
      "outputs": [
        {
          "output_type": "stream",
          "name": "stdout",
          "text": [
            " raj pradeep \n",
            " raj \n"
          ]
        }
      ]
    },
    {
      "cell_type": "code",
      "source": [
        "name1 = ' raj pradeep '\n",
        "print ( name )\n",
        "name = ' raj '\n",
        "print (name)"
      ],
      "metadata": {
        "colab": {
          "base_uri": "https://localhost:8080/"
        },
        "id": "NvdeMslnek5p",
        "outputId": "2495cdb6-f6b6-456b-9a68-263e4a52aed1"
      },
      "execution_count": 30,
      "outputs": [
        {
          "output_type": "stream",
          "name": "stdout",
          "text": [
            " raj \n",
            " raj \n"
          ]
        }
      ]
    },
    {
      "cell_type": "markdown",
      "source": [
        " jenny 126 videos ---- 9\n"
      ],
      "metadata": {
        "id": "4_isWfh7e7-B"
      }
    },
    {
      "cell_type": "code",
      "source": [
        "a = input (' enter the value of a= ')\n",
        "b = input ('enter the value of b= ')\n",
        "c=a\n",
        "a=b\n",
        "b=c\n",
        "print (a +' ' + b)\n"
      ],
      "metadata": {
        "colab": {
          "base_uri": "https://localhost:8080/"
        },
        "id": "_3oEDlawfJbI",
        "outputId": "11d4b925-81df-4735-e531-1948d8383689"
      },
      "execution_count": 37,
      "outputs": [
        {
          "output_type": "stream",
          "name": "stdout",
          "text": [
            " enter the value of a= 1\n",
            "enter the value of b= 2\n",
            "2 1\n"
          ]
        }
      ]
    },
    {
      "cell_type": "markdown",
      "source": [
        "nga print fn la int int concatenation pani irukom paru\n"
      ],
      "metadata": {
        "id": "KMJZCXdcnppe"
      }
    },
    {
      "cell_type": "code",
      "source": [
        "a = input (' enter the value of a= ')\n",
        "b = input ('enter the value of b= ')\n",
        "c=a\n",
        "a=b\n",
        "b=c\n",
        "print ('a=' + a + ',' + 'b=' + b)"
      ],
      "metadata": {
        "colab": {
          "base_uri": "https://localhost:8080/"
        },
        "id": "pc1GJGQKi9ZF",
        "outputId": "f4d30c7c-2e04-4d68-c3ef-b6ccf691ab8e"
      },
      "execution_count": 39,
      "outputs": [
        {
          "output_type": "stream",
          "name": "stdout",
          "text": [
            " enter the value of a= 1\n",
            "enter the value of b= 2\n",
            "a=2,b=1\n"
          ]
        }
      ]
    },
    {
      "cell_type": "markdown",
      "source": [
        "inga print fn koncham different ah eluthi iruken paru\n",
        "\n",
        "input fn '123' or abc nu ethunalum athu string ah tn consider panikum"
      ],
      "metadata": {
        "id": "0Sju-ffZnYx3"
      }
    }
  ]
}