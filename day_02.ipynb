{
  "nbformat": 4,
  "nbformat_minor": 0,
  "metadata": {
    "colab": {
      "provenance": [],
      "authorship_tag": "ABX9TyPof2YDhoZZWz5N7ZioOXAn",
      "include_colab_link": true
    },
    "kernelspec": {
      "name": "python3",
      "display_name": "Python 3"
    },
    "language_info": {
      "name": "python"
    }
  },
  "cells": [
    {
      "cell_type": "markdown",
      "metadata": {
        "id": "view-in-github",
        "colab_type": "text"
      },
      "source": [
        "<a href=\"https://colab.research.google.com/github/pradeeppbabu/hello-world/blob/master/day_02.ipynb\" target=\"_parent\"><img src=\"https://colab.research.google.com/assets/colab-badge.svg\" alt=\"Open In Colab\"/></a>"
      ]
    },
    {
      "cell_type": "code",
      "execution_count": 1,
      "metadata": {
        "colab": {
          "base_uri": "https://localhost:8080/",
          "height": 106
        },
        "id": "uI47yIXJlWKQ",
        "outputId": "15602201-d3d8-40ed-ea4d-a3c5cf6de419"
      },
      "outputs": [
        {
          "output_type": "error",
          "ename": "SyntaxError",
          "evalue": "invalid syntax (ipython-input-2566190252.py, line 1)",
          "traceback": [
            "\u001b[0;36m  File \u001b[0;32m\"/tmp/ipython-input-2566190252.py\"\u001b[0;36m, line \u001b[0;32m1\u001b[0m\n\u001b[0;31m    int 2 print ( int )\u001b[0m\n\u001b[0m        ^\u001b[0m\n\u001b[0;31mSyntaxError\u001b[0m\u001b[0;31m:\u001b[0m invalid syntax\n"
          ]
        }
      ],
      "source": [
        "print(2)"
      ]
    },
    {
      "cell_type": "code",
      "source": [
        "# int - integer na -1, 0, 1, infinity in positive numbers nd negative numbers\n",
        "# float na -0.1,1.1, ....\n",
        "# str na string - ithula character or characters represent pana mudium like 'a', \"a\", \"@\", ....."
      ],
      "metadata": {
        "id": "7uWwnab_mGnJ"
      },
      "execution_count": 2,
      "outputs": []
    },
    {
      "cell_type": "code",
      "source": [],
      "metadata": {
        "id": "gDT3FfOvmGzf"
      },
      "execution_count": null,
      "outputs": []
    },
    {
      "cell_type": "markdown",
      "metadata": {
        "id": "223fb5e7"
      },
      "source": [
        "### Data Types in Python\n",
        "\n",
        "*   **int**: Integers (whole numbers, positive or negative), like -1, 0, 1, etc.\n",
        "*   **float**: Floating-point numbers (numbers with a decimal point), like -0.1, 1.1, etc.\n",
        "*   **str**: Strings (sequences of characters), used to represent text, like 'a', \"hello\", \"@\", \"123\", etc."
      ]
    },
    {
      "cell_type": "code",
      "source": [
        "# variables"
      ],
      "metadata": {
        "id": "LZQvGgxtp3rM"
      },
      "execution_count": null,
      "outputs": []
    },
    {
      "cell_type": "code",
      "source": [
        "100+20+34"
      ],
      "metadata": {
        "colab": {
          "base_uri": "https://localhost:8080/"
        },
        "id": "r8yR5__-rGGA",
        "outputId": "a8963409-451c-4533-e406-96b3180aaf2c"
      },
      "execution_count": 3,
      "outputs": [
        {
          "output_type": "execute_result",
          "data": {
            "text/plain": [
              "154"
            ]
          },
          "metadata": {},
          "execution_count": 3
        }
      ]
    },
    {
      "cell_type": "code",
      "source": [
        "100*8"
      ],
      "metadata": {
        "colab": {
          "base_uri": "https://localhost:8080/"
        },
        "id": "8aVbakaNrYjf",
        "outputId": "4c5681d8-8be2-4ce1-b7df-d5819ae70a3f"
      },
      "execution_count": 4,
      "outputs": [
        {
          "output_type": "execute_result",
          "data": {
            "text/plain": [
              "800"
            ]
          },
          "metadata": {},
          "execution_count": 4
        }
      ]
    },
    {
      "cell_type": "code",
      "source": [
        "g = 100\n",
        "r = 120\n",
        "h = 48"
      ],
      "metadata": {
        "id": "UcBc4ePfr8q1"
      },
      "execution_count": 5,
      "outputs": []
    },
    {
      "cell_type": "code",
      "source": [
        "g"
      ],
      "metadata": {
        "colab": {
          "base_uri": "https://localhost:8080/"
        },
        "id": "h_-NKdaBsEL0",
        "outputId": "8c87fa1e-90a9-49b5-a4e8-8845a830304d"
      },
      "execution_count": 6,
      "outputs": [
        {
          "output_type": "execute_result",
          "data": {
            "text/plain": [
              "100"
            ]
          },
          "metadata": {},
          "execution_count": 6
        }
      ]
    },
    {
      "cell_type": "code",
      "source": [
        "t = g+r+h"
      ],
      "metadata": {
        "id": "2AebkeewsG-M"
      },
      "execution_count": 8,
      "outputs": []
    },
    {
      "cell_type": "code",
      "source": [
        "t"
      ],
      "metadata": {
        "colab": {
          "base_uri": "https://localhost:8080/"
        },
        "id": "YCFFQKtisMfs",
        "outputId": "cbe37258-8b64-4191-eb46-bb41fbb18236"
      },
      "execution_count": 9,
      "outputs": [
        {
          "output_type": "execute_result",
          "data": {
            "text/plain": [
              "268"
            ]
          },
          "metadata": {},
          "execution_count": 9
        }
      ]
    },
    {
      "cell_type": "code",
      "source": [
        "g ,r,h = 100,120,48"
      ],
      "metadata": {
        "id": "GQA8vCyMseYe"
      },
      "execution_count": 10,
      "outputs": []
    },
    {
      "cell_type": "code",
      "source": [
        "r"
      ],
      "metadata": {
        "colab": {
          "base_uri": "https://localhost:8080/"
        },
        "id": "N8QqIXJTslib",
        "outputId": "44e0257c-bcfc-4380-8865-a93c35d4ee33"
      },
      "execution_count": 11,
      "outputs": [
        {
          "output_type": "execute_result",
          "data": {
            "text/plain": [
              "120"
            ]
          },
          "metadata": {},
          "execution_count": 11
        }
      ]
    }
  ]
}