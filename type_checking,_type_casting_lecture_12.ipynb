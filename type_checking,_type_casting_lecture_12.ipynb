{
  "nbformat": 4,
  "nbformat_minor": 0,
  "metadata": {
    "colab": {
      "provenance": [],
      "authorship_tag": "ABX9TyPuEubTLIuu3V5s+rpq9I9w",
      "include_colab_link": true
    },
    "kernelspec": {
      "name": "python3",
      "display_name": "Python 3"
    },
    "language_info": {
      "name": "python"
    }
  },
  "cells": [
    {
      "cell_type": "markdown",
      "metadata": {
        "id": "view-in-github",
        "colab_type": "text"
      },
      "source": [
        "<a href=\"https://colab.research.google.com/github/pradeeppbabu/hello-world/blob/master/type_checking%2C_type_casting_lecture_12.ipynb\" target=\"_parent\"><img src=\"https://colab.research.google.com/assets/colab-badge.svg\" alt=\"Open In Colab\"/></a>"
      ]
    },
    {
      "cell_type": "code",
      "execution_count": null,
      "metadata": {
        "colab": {
          "base_uri": "https://localhost:8080/"
        },
        "id": "DxIcQzf0j11e",
        "outputId": "253a82c9-97e6-4ac6-a7bc-16c961f7e1a0"
      },
      "outputs": [
        {
          "output_type": "stream",
          "name": "stdout",
          "text": [
            "14\n"
          ]
        }
      ],
      "source": [
        "print(len (\"rb raj pradeep\"))"
      ]
    },
    {
      "cell_type": "code",
      "source": [
        "print(len (\"9943144119\"))"
      ],
      "metadata": {
        "colab": {
          "base_uri": "https://localhost:8080/"
        },
        "id": "tHg_2f3cmPwN",
        "outputId": "b55515ac-715b-4cc3-c430-deab45392ca9"
      },
      "execution_count": null,
      "outputs": [
        {
          "output_type": "stream",
          "name": "stdout",
          "text": [
            "10\n"
          ]
        }
      ]
    },
    {
      "cell_type": "code",
      "source": [
        "print(len (9943144119))"
      ],
      "metadata": {
        "colab": {
          "base_uri": "https://localhost:8080/",
          "height": 141
        },
        "id": "qGLpjtDHmbu7",
        "outputId": "de179276-10f9-440f-88ad-f58d4b733fb5"
      },
      "execution_count": null,
      "outputs": [
        {
          "output_type": "error",
          "ename": "TypeError",
          "evalue": "object of type 'int' has no len()",
          "traceback": [
            "\u001b[0;31m---------------------------------------------------------------------------\u001b[0m",
            "\u001b[0;31mTypeError\u001b[0m                                 Traceback (most recent call last)",
            "\u001b[0;32m/tmp/ipython-input-4015811861.py\u001b[0m in \u001b[0;36m<cell line: 0>\u001b[0;34m()\u001b[0m\n\u001b[0;32m----> 1\u001b[0;31m \u001b[0mprint\u001b[0m\u001b[0;34m(\u001b[0m\u001b[0mlen\u001b[0m \u001b[0;34m(\u001b[0m\u001b[0;36m9943144119\u001b[0m\u001b[0;34m)\u001b[0m\u001b[0;34m)\u001b[0m\u001b[0;34m\u001b[0m\u001b[0;34m\u001b[0m\u001b[0m\n\u001b[0m",
            "\u001b[0;31mTypeError\u001b[0m: object of type 'int' has no len()"
          ]
        }
      ]
    },
    {
      "cell_type": "markdown",
      "source": [
        "inga numbers ah double quotes kodukalana typeerror tn varum. en double quotes venum na anga len fn iruku intha len fn double quotes iruntha tn count panum.len fn character ah count panikum."
      ],
      "metadata": {
        "id": "n_HYZNJ1miU0"
      }
    },
    {
      "cell_type": "code",
      "source": [
        "print(len (rb raj pradeep))"
      ],
      "metadata": {
        "colab": {
          "base_uri": "https://localhost:8080/",
          "height": 106
        },
        "id": "hFZRcs8FncI5",
        "outputId": "c0a88b19-ffcd-4786-bf63-1c00b1c35582"
      },
      "execution_count": null,
      "outputs": [
        {
          "output_type": "error",
          "ename": "SyntaxError",
          "evalue": "invalid syntax. Perhaps you forgot a comma? (ipython-input-4245945495.py, line 1)",
          "traceback": [
            "\u001b[0;36m  File \u001b[0;32m\"/tmp/ipython-input-4245945495.py\"\u001b[0;36m, line \u001b[0;32m1\u001b[0m\n\u001b[0;31m    print(len (rb raj pradeep))\u001b[0m\n\u001b[0m               ^\u001b[0m\n\u001b[0;31mSyntaxError\u001b[0m\u001b[0;31m:\u001b[0m invalid syntax. Perhaps you forgot a comma?\n"
          ]
        }
      ]
    },
    {
      "cell_type": "markdown",
      "source": [
        "inga paru len fn kaana syntax la ila nu interpreter soluthu. above example um intha example um partha interpreter ku purithu numbers iruntha ena datatype nu purinchikuthu, letters iruntha ena datatype nu purinchikuthu. interpreter ethuku typeerror solanum, syntax error solanum. terithu."
      ],
      "metadata": {
        "id": "Ok3ve2h2njd4"
      }
    },
    {
      "cell_type": "code",
      "source": [
        "length = (len (\"9943144119\"))\n",
        "print (\"your mobile number is\" + length + \"  which is very good number\")"
      ],
      "metadata": {
        "colab": {
          "base_uri": "https://localhost:8080/",
          "height": 159
        },
        "id": "VzW-RmxLqeUP",
        "outputId": "f6361767-2a36-42a5-f1b5-34f53fa70252"
      },
      "execution_count": null,
      "outputs": [
        {
          "output_type": "error",
          "ename": "TypeError",
          "evalue": "can only concatenate str (not \"int\") to str",
          "traceback": [
            "\u001b[0;31m---------------------------------------------------------------------------\u001b[0m",
            "\u001b[0;31mTypeError\u001b[0m                                 Traceback (most recent call last)",
            "\u001b[0;32m/tmp/ipython-input-1678856648.py\u001b[0m in \u001b[0;36m<cell line: 0>\u001b[0;34m()\u001b[0m\n\u001b[1;32m      1\u001b[0m \u001b[0mlength\u001b[0m \u001b[0;34m=\u001b[0m \u001b[0;34m(\u001b[0m\u001b[0mlen\u001b[0m \u001b[0;34m(\u001b[0m\u001b[0;34m\"9943144119\"\u001b[0m\u001b[0;34m)\u001b[0m\u001b[0;34m)\u001b[0m\u001b[0;34m\u001b[0m\u001b[0;34m\u001b[0m\u001b[0m\n\u001b[0;32m----> 2\u001b[0;31m \u001b[0mprint\u001b[0m \u001b[0;34m(\u001b[0m\u001b[0;34m\"your mobile number is\"\u001b[0m \u001b[0;34m+\u001b[0m \u001b[0mlength\u001b[0m \u001b[0;34m+\u001b[0m \u001b[0;34m\"  which is very good number\"\u001b[0m\u001b[0;34m)\u001b[0m\u001b[0;34m\u001b[0m\u001b[0;34m\u001b[0m\u001b[0m\n\u001b[0m",
            "\u001b[0;31mTypeError\u001b[0m: can only concatenate str (not \"int\") to str"
          ]
        }
      ]
    },
    {
      "cell_type": "markdown",
      "source": [
        "inga concatenation fn str to str tn panum. int to str panathu. interpreter ku terithu length ngrathu int la iruku nu. so concatenate fn ku allow pana matinguthu.  ipo intha length (int) ah str ah mathanum apo tn concatenate pana mudiyum .  "
      ],
      "metadata": {
        "id": "g6zydwwLq4yV"
      }
    },
    {
      "cell_type": "code",
      "source": [
        "length = (len (\"9943144119\"))\n",
        "print (\"your mobile number is\" + str(length) + \"  which is very good number\")"
      ],
      "metadata": {
        "colab": {
          "base_uri": "https://localhost:8080/"
        },
        "id": "RSsWVNKIrxRc",
        "outputId": "dda3775f-6951-460a-a2fd-f811e1d54bdc"
      },
      "execution_count": null,
      "outputs": [
        {
          "output_type": "stream",
          "name": "stdout",
          "text": [
            "your mobile number is10  which is very good number\n"
          ]
        }
      ]
    },
    {
      "cell_type": "markdown",
      "source": [
        "interpreter purinchiduchu ipo elam str la iruku nu.\n",
        "\n",
        "itha tn int to str conversion nu solrom. purithal ku --- length la int tn iruku but int ah interpreter character ah paka muyarchi seirom so str fn use pana length la ula value ah int ah parkama str ah parthu atha apdyae print pana muyarchikum (interpreter tn muyarchikum)"
      ],
      "metadata": {
        "id": "-fyYbsfor_Hi"
      }
    },
    {
      "cell_type": "code",
      "source": [
        "print(10+10)"
      ],
      "metadata": {
        "id": "Xmk2Ujbqt-YN",
        "colab": {
          "base_uri": "https://localhost:8080/"
        },
        "outputId": "d8480794-5e46-4d73-c652-67d8a948afbf"
      },
      "execution_count": 1,
      "outputs": [
        {
          "output_type": "stream",
          "name": "stdout",
          "text": [
            "20\n"
          ]
        }
      ]
    },
    {
      "cell_type": "code",
      "source": [
        "print (\"10\" + \"10\")"
      ],
      "metadata": {
        "colab": {
          "base_uri": "https://localhost:8080/"
        },
        "id": "1wJnMx20t-pl",
        "outputId": "70efe25d-3f2a-4b39-8d12-8c6533be8d0f"
      },
      "execution_count": 2,
      "outputs": [
        {
          "output_type": "stream",
          "name": "stdout",
          "text": [
            "1010\n"
          ]
        }
      ]
    },
    {
      "cell_type": "code",
      "source": [
        "print(int(\"10\") + int(\"10\"))\n",
        "print(type(int))"
      ],
      "metadata": {
        "colab": {
          "base_uri": "https://localhost:8080/"
        },
        "id": "T-8b_IH-uFIc",
        "outputId": "769a44d6-c1e2-46b5-def1-7e631dba366d"
      },
      "execution_count": 5,
      "outputs": [
        {
          "output_type": "stream",
          "name": "stdout",
          "text": [
            "20\n",
            "<class 'type'>\n"
          ]
        }
      ]
    },
    {
      "cell_type": "markdown",
      "source": [
        "interpreter ah str la ullatha int ah paka solrom. apdy pathuchu na value ah eduthukum. print fn antha values ah plus pani o/p la kodukum.\n",
        "\n",
        "so inga string int ah convert aagi iruku.\n"
      ],
      "metadata": {
        "id": "yLa93Dlduk2D"
      }
    },
    {
      "cell_type": "code",
      "source": [
        "print(10 + float(\"10.1\"))"
      ],
      "metadata": {
        "colab": {
          "base_uri": "https://localhost:8080/"
        },
        "id": "h3lSMZu3vz-f",
        "outputId": "ac9c23f5-158e-408e-ac41-b15e5cad12b2"
      },
      "execution_count": 6,
      "outputs": [
        {
          "output_type": "stream",
          "name": "stdout",
          "text": [
            "20.1\n"
          ]
        }
      ]
    },
    {
      "cell_type": "markdown",
      "source": [
        "interpreter ah str aah ulatha float ah paka solrom."
      ],
      "metadata": {
        "id": "p90kOb6Vv7hO"
      }
    },
    {
      "cell_type": "code",
      "source": [
        "name = \"99999\"\n",
        "print(type(name))\n",
        "print(int(name))\n",
        "print(str(name))\n",
        "print(name)"
      ],
      "metadata": {
        "colab": {
          "base_uri": "https://localhost:8080/"
        },
        "id": "lFSa4K-GxEnz",
        "outputId": "5208f8ba-099c-4db7-8050-f25b1befe1f3"
      },
      "execution_count": 13,
      "outputs": [
        {
          "output_type": "stream",
          "name": "stdout",
          "text": [
            "<class 'str'>\n",
            "99999\n",
            "99999\n",
            "99999\n"
          ]
        }
      ]
    },
    {
      "cell_type": "markdown",
      "source": [
        "inga name la value ah string la assign panrom. apo name ooda type str. type str aah ula name ah int ah paka solrom athuku interpreter 99999 nu soluthu. name la ena iruku nu print pana solrom apo interpreter 99999 nu soluthu.\n"
      ],
      "metadata": {
        "id": "YgU6EgyZyT8Y"
      }
    },
    {
      "cell_type": "code",
      "source": [
        "name = \"rb raj pradeep\"\n",
        "print (type(name))\n",
        "print (int(name))"
      ],
      "metadata": {
        "colab": {
          "base_uri": "https://localhost:8080/",
          "height": 193
        },
        "id": "Cy_GSmXizKs1",
        "outputId": "990111e1-8d41-4ea4-953d-3aa6136424d6"
      },
      "execution_count": 15,
      "outputs": [
        {
          "output_type": "stream",
          "name": "stdout",
          "text": [
            "<class 'str'>\n"
          ]
        },
        {
          "output_type": "error",
          "ename": "ValueError",
          "evalue": "invalid literal for int() with base 10: 'rb raj pradeep'",
          "traceback": [
            "\u001b[0;31m---------------------------------------------------------------------------\u001b[0m",
            "\u001b[0;31mValueError\u001b[0m                                Traceback (most recent call last)",
            "\u001b[0;32m/tmp/ipython-input-1168534540.py\u001b[0m in \u001b[0;36m<cell line: 0>\u001b[0;34m()\u001b[0m\n\u001b[1;32m      1\u001b[0m \u001b[0mname\u001b[0m \u001b[0;34m=\u001b[0m \u001b[0;34m\"rb raj pradeep\"\u001b[0m\u001b[0;34m\u001b[0m\u001b[0;34m\u001b[0m\u001b[0m\n\u001b[1;32m      2\u001b[0m \u001b[0mprint\u001b[0m \u001b[0;34m(\u001b[0m\u001b[0mtype\u001b[0m\u001b[0;34m(\u001b[0m\u001b[0mname\u001b[0m\u001b[0;34m)\u001b[0m\u001b[0;34m)\u001b[0m\u001b[0;34m\u001b[0m\u001b[0;34m\u001b[0m\u001b[0m\n\u001b[0;32m----> 3\u001b[0;31m \u001b[0mprint\u001b[0m \u001b[0;34m(\u001b[0m\u001b[0mint\u001b[0m\u001b[0;34m(\u001b[0m\u001b[0mname\u001b[0m\u001b[0;34m)\u001b[0m\u001b[0;34m)\u001b[0m\u001b[0;34m\u001b[0m\u001b[0;34m\u001b[0m\u001b[0m\n\u001b[0m",
            "\u001b[0;31mValueError\u001b[0m: invalid literal for int() with base 10: 'rb raj pradeep'"
          ]
        }
      ]
    },
    {
      "cell_type": "markdown",
      "source": [
        "interpreter ah (2nd line la ulatha ) name ah int ah paka solrom. interpreter previous example la numbers ah patha inthaa example la letters ah paka matinguthu.\n",
        "\n",
        "enaku oru kelvi ipo intha name ah epadi int ah paka vaikurathu or name ah str to int epadi convert panrathu.\n"
      ],
      "metadata": {
        "id": "Y5GDGectz1Kz"
      }
    },
    {
      "cell_type": "code",
      "source": [
        "first_number = input(\"enter first number \")\n",
        "second_number = input(\"enter second number \")\n",
        "sum = first_number + second_number\n",
        "print(sum)"
      ],
      "metadata": {
        "colab": {
          "base_uri": "https://localhost:8080/"
        },
        "id": "qwdG0-hR14W-",
        "outputId": "d95e22fd-25cd-4958-f0a0-e5c4a26d928c"
      },
      "execution_count": 17,
      "outputs": [
        {
          "output_type": "stream",
          "name": "stdout",
          "text": [
            "enter first number 99\n",
            "enter second number 55\n",
            "9955\n"
          ]
        }
      ]
    },
    {
      "cell_type": "markdown",
      "source": [
        "ena intha mari varuthu. ipo output vachi interpreter ena mari yosikuthu nu paru apo unaku epadi solve pnanum nu idea ah vanthrum..\n",
        "\n",
        "inga o/p la rendu numbers um concatenate pana mari vanthu iruku. apo input() fn la ethu kuduthalum athu str ah interpreter eduthukum.\n"
      ],
      "metadata": {
        "id": "tuT6JD1B2gHM"
      }
    },
    {
      "cell_type": "code",
      "source": [
        "first_number = input(\"enter first number \")\n",
        "second_number = input(\"enter second number \")\n",
        "sum = int(first_number)  + int(second_number)\n",
        "print(sum)"
      ],
      "metadata": {
        "colab": {
          "base_uri": "https://localhost:8080/"
        },
        "id": "PBbk3Fr64Q2f",
        "outputId": "aa9cb3e2-a342-4e26-c9ae-6e50506b5bf3"
      },
      "execution_count": 18,
      "outputs": [
        {
          "output_type": "stream",
          "name": "stdout",
          "text": [
            "enter first number 99\n",
            "enter second number 55\n",
            "154\n"
          ]
        }
      ]
    },
    {
      "cell_type": "markdown",
      "source": [
        "previous example la input fn la ulatha str ah eduthukuchu then athoda o/p concatenate pani vanthuruchu rather nama ethir patha pathiluku pathila.\n",
        "\n",
        "intha example la input fn la ula str ah interpreter ku int ah paka soli nama ethir patha pathila kondu vantom."
      ],
      "metadata": {
        "id": "G7f2Jwd44c2W"
      }
    }
  ]
}