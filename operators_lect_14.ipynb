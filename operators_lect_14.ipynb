{
  "nbformat": 4,
  "nbformat_minor": 0,
  "metadata": {
    "colab": {
      "provenance": [],
      "authorship_tag": "ABX9TyN64ibW6DpiRJdL5LjZV57u",
      "include_colab_link": true
    },
    "kernelspec": {
      "name": "python3",
      "display_name": "Python 3"
    },
    "language_info": {
      "name": "python"
    }
  },
  "cells": [
    {
      "cell_type": "markdown",
      "metadata": {
        "id": "view-in-github",
        "colab_type": "text"
      },
      "source": [
        "<a href=\"https://colab.research.google.com/github/pradeeppbabu/hello-world/blob/master/operators_lect_14.ipynb\" target=\"_parent\"><img src=\"https://colab.research.google.com/assets/colab-badge.svg\" alt=\"Open In Colab\"/></a>"
      ]
    },
    {
      "cell_type": "code",
      "execution_count": 1,
      "metadata": {
        "colab": {
          "base_uri": "https://localhost:8080/"
        },
        "id": "bMUR5lFlRK7v",
        "outputId": "f7ec1a07-4cd4-4296-80a9-3df60d4b82a8"
      },
      "outputs": [
        {
          "output_type": "stream",
          "name": "stdout",
          "text": [
            "7\n"
          ]
        }
      ],
      "source": [
        "print(5+2)"
      ]
    },
    {
      "cell_type": "code",
      "source": [
        "print(5/2)"
      ],
      "metadata": {
        "colab": {
          "base_uri": "https://localhost:8080/"
        },
        "id": "Dzo7ABjkY68B",
        "outputId": "a1a865d6-d46b-42d1-8279-9a105157c2ed"
      },
      "execution_count": 2,
      "outputs": [
        {
          "output_type": "stream",
          "name": "stdout",
          "text": [
            "2.5\n"
          ]
        }
      ]
    },
    {
      "cell_type": "markdown",
      "source": [
        "\"/\" intha division operator use pana float value la tn katum.\n",
        "\"//\" intha floor division operator use pana clean division pani int la katum."
      ],
      "metadata": {
        "id": "GIXhzcfHZCRv"
      }
    },
    {
      "cell_type": "code",
      "source": [
        "print(10//2)\n",
        "print(10/2)"
      ],
      "metadata": {
        "colab": {
          "base_uri": "https://localhost:8080/"
        },
        "id": "Z3NA174tZdi2",
        "outputId": "488fb9bc-5d71-4459-f9b9-3a10cbdf51d0"
      },
      "execution_count": 4,
      "outputs": [
        {
          "output_type": "stream",
          "name": "stdout",
          "text": [
            "5\n",
            "5.0\n"
          ]
        }
      ]
    },
    {
      "cell_type": "markdown",
      "source": [
        "inga operators ooda vithiyasam iruku."
      ],
      "metadata": {
        "id": "qkjPOp1lZmMm"
      }
    },
    {
      "cell_type": "code",
      "source": [
        "print(4**3)"
      ],
      "metadata": {
        "colab": {
          "base_uri": "https://localhost:8080/"
        },
        "id": "p9obv8loZtZu",
        "outputId": "0eb75a11-7a2c-4c96-8537-8fb3821695ff"
      },
      "execution_count": 5,
      "outputs": [
        {
          "output_type": "stream",
          "name": "stdout",
          "text": [
            "64\n"
          ]
        }
      ]
    },
    {
      "cell_type": "markdown",
      "source": [
        "ithu power operator."
      ],
      "metadata": {
        "id": "sqo3eHd4Z5X1"
      }
    },
    {
      "cell_type": "code",
      "source": [
        "print(5%2)"
      ],
      "metadata": {
        "colab": {
          "base_uri": "https://localhost:8080/"
        },
        "id": "ruGgnlbiZ8Z9",
        "outputId": "583936da-bfda-4829-a9fc-3a077696f788"
      },
      "execution_count": 6,
      "outputs": [
        {
          "output_type": "stream",
          "name": "stdout",
          "text": [
            "1\n"
          ]
        }
      ]
    },
    {
      "cell_type": "markdown",
      "source": [
        "ithu modulus operator. ithu remainder tn kanpikum."
      ],
      "metadata": {
        "id": "0HY6vNVMacXT"
      }
    },
    {
      "cell_type": "code",
      "source": [
        "print(5+2*3-1+10/5)"
      ],
      "metadata": {
        "colab": {
          "base_uri": "https://localhost:8080/"
        },
        "id": "OYZ0YZWcai4b",
        "outputId": "2b510552-5429-43d8-b475-8474c2cdd85b"
      },
      "execution_count": 7,
      "outputs": [
        {
          "output_type": "stream",
          "name": "stdout",
          "text": [
            "12.0\n"
          ]
        }
      ]
    },
    {
      "cell_type": "markdown",
      "source": [
        "inga precedence and associativity use pani iruku intha interpreter."
      ],
      "metadata": {
        "id": "jNqELjB1bFpS"
      }
    },
    {
      "cell_type": "code",
      "source": [
        "print(100/(5**2))"
      ],
      "metadata": {
        "colab": {
          "base_uri": "https://localhost:8080/"
        },
        "id": "GqOd4Y51bQiJ",
        "outputId": "707e8db7-f701-4365-f996-060978136055"
      },
      "execution_count": 8,
      "outputs": [
        {
          "output_type": "stream",
          "name": "stdout",
          "text": [
            "4.0\n"
          ]
        }
      ]
    },
    {
      "cell_type": "markdown",
      "source": [
        "ithu BMI calcuation . BMI formula weight / height^2.\n"
      ],
      "metadata": {
        "id": "koy3gGvYcO--"
      }
    }
  ]
}