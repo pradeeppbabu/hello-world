{
  "nbformat": 4,
  "nbformat_minor": 0,
  "metadata": {
    "colab": {
      "provenance": [],
      "authorship_tag": "ABX9TyMInMu46pbMGzKsrb8ymlBx",
      "include_colab_link": true
    },
    "kernelspec": {
      "name": "python3",
      "display_name": "Python 3"
    },
    "language_info": {
      "name": "python"
    }
  },
  "cells": [
    {
      "cell_type": "markdown",
      "metadata": {
        "id": "view-in-github",
        "colab_type": "text"
      },
      "source": [
        "<a href=\"https://colab.research.google.com/github/pradeeppbabu/hello-world/blob/master/coding_exercise_lecture_13_.ipynb\" target=\"_parent\"><img src=\"https://colab.research.google.com/assets/colab-badge.svg\" alt=\"Open In Colab\"/></a>"
      ]
    },
    {
      "cell_type": "code",
      "execution_count": 9,
      "metadata": {
        "colab": {
          "base_uri": "https://localhost:8080/"
        },
        "id": "EGrzuv4aKK2z",
        "outputId": "16324c58-59e5-49cd-f974-c009edbefb9e"
      },
      "outputs": [
        {
          "output_type": "stream",
          "name": "stdout",
          "text": [
            "enter a two digit number 12\n",
            "3\n",
            "<class 'str'>\n"
          ]
        }
      ],
      "source": [
        "a = input(\"enter a two digit number \")\n",
        "b = (int(a[0]) + int(a[1]))\n",
        "print(b)\n",
        "print (type(a))"
      ]
    },
    {
      "cell_type": "markdown",
      "source": [
        "ithu nane eluthuna program....\n",
        "a la value str ah store aagi iruku. 2nd line la interpreter ah int ah a la ula 1st string (a(0)=1) ah int ah parka solrom athu mari tn a la ula 2nd string (a (1) = 2) ah parka solrom."
      ],
      "metadata": {
        "id": "IujaJikBRfe1"
      }
    }
  ]
}